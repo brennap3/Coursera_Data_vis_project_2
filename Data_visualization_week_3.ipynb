{
 "cells": [
  {
   "cell_type": "code",
   "execution_count": 36,
   "metadata": {
    "collapsed": false
   },
   "outputs": [
    {
     "ename": "NameError",
     "evalue": "name 'igraph' is not defined",
     "output_type": "error",
     "traceback": [
      "\u001b[1;31m---------------------------------------------------------------------------\u001b[0m",
      "\u001b[1;31mNameError\u001b[0m                                 Traceback (most recent call last)",
      "\u001b[1;32m<ipython-input-36-3148a185808c>\u001b[0m in \u001b[0;36m<module>\u001b[1;34m()\u001b[0m\n\u001b[0;32m      1\u001b[0m \u001b[1;32mimport\u001b[0m \u001b[0mnetworkx\u001b[0m \u001b[1;32mas\u001b[0m \u001b[0mnx\u001b[0m\u001b[1;33m\u001b[0m\u001b[0m\n\u001b[0;32m      2\u001b[0m \u001b[1;32mfrom\u001b[0m \u001b[0migraph\u001b[0m \u001b[1;32mimport\u001b[0m \u001b[1;33m*\u001b[0m\u001b[1;33m\u001b[0m\u001b[0m\n\u001b[1;32m----> 3\u001b[1;33m \u001b[1;32mprint\u001b[0m \u001b[0migraph\u001b[0m\u001b[1;33m.\u001b[0m\u001b[0m__version__\u001b[0m\u001b[1;33m\u001b[0m\u001b[0m\n\u001b[0m\u001b[0;32m      4\u001b[0m \u001b[1;32mimport\u001b[0m \u001b[0mpyparsing\u001b[0m\u001b[1;33m\u001b[0m\u001b[0m\n",
      "\u001b[1;31mNameError\u001b[0m: name 'igraph' is not defined"
     ]
    }
   ],
   "source": [
    "import networkx as nx\n",
    "from igraph import *\n",
    "print igraph.__version__\n",
    "import pyparsing"
   ]
  },
  {
   "cell_type": "code",
   "execution_count": null,
   "metadata": {
    "collapsed": false
   },
   "outputs": [],
   "source": [
    "from igraph import *\n",
    "print igraph.__version__\n",
    "import pyparsing"
   ]
  },
  {
   "cell_type": "code",
   "execution_count": 37,
   "metadata": {
    "collapsed": true
   },
   "outputs": [],
   "source": [
    "import os\n",
    "filepath='C:\\Python27\\ProgrammingAssignment2Data' \n",
    "os.chdir(filepath)"
   ]
  },
  {
   "cell_type": "code",
   "execution_count": 38,
   "metadata": {
    "collapsed": true
   },
   "outputs": [],
   "source": [
    "kn = nx.read_gml('football.gml',relabel=True)"
   ]
  },
  {
   "cell_type": "code",
   "execution_count": null,
   "metadata": {
    "collapsed": true
   },
   "outputs": [],
   "source": [
    "kn"
   ]
  },
  {
   "cell_type": "code",
   "execution_count": 39,
   "metadata": {
    "collapsed": true
   },
   "outputs": [],
   "source": [
    "nx.draw_spring(kn,with_labels=True)"
   ]
  },
  {
   "cell_type": "code",
   "execution_count": 40,
   "metadata": {
    "collapsed": true
   },
   "outputs": [],
   "source": [
    "import matplotlib.pyplot as plt"
   ]
  },
  {
   "cell_type": "code",
   "execution_count": null,
   "metadata": {
    "collapsed": false
   },
   "outputs": [],
   "source": [
    "plt.show()"
   ]
  },
  {
   "cell_type": "code",
   "execution_count": 19,
   "metadata": {
    "collapsed": true
   },
   "outputs": [],
   "source": [
    "nx.draw_shell(kn,with_labels=True)"
   ]
  },
  {
   "cell_type": "code",
   "execution_count": 20,
   "metadata": {
    "collapsed": true
   },
   "outputs": [],
   "source": [
    "plt.show()"
   ]
  },
  {
   "cell_type": "code",
   "execution_count": 21,
   "metadata": {
    "collapsed": false
   },
   "outputs": [
    {
     "name": "stdout",
     "output_type": "stream",
     "text": [
      "Mississippi 11\n",
      "OregonState 10\n",
      "NotreDame 11\n",
      "Wyoming 11\n",
      "Minnesota 11\n",
      "Illinois 11\n",
      "Kent 10\n",
      "Toledo 9\n",
      "Indiana 11\n",
      "TexasChristian 11\n",
      "Texas 11\n",
      "BostonCollege 11\n",
      "MississippiState 11\n",
      "Tulsa 12\n",
      "Kansas 10\n",
      "SouthernMethodist 12\n",
      "Connecticut 7\n",
      "Tulane 11\n",
      "PennState 12\n",
      "FresnoState 11\n",
      "Clemson 10\n",
      "LouisianaState 10\n",
      "CentralFlorida 8\n",
      "Cincinnati 11\n",
      "Missouri 10\n",
      "Washington 11\n",
      "OklahomaState 10\n",
      "Marshall 11\n",
      "IowaState 11\n",
      "Army 11\n",
      "LouisianaTech 10\n",
      "AlabamaBirmingham 10\n",
      "UCLA 11\n",
      "MiddleTennesseeState 9\n",
      "Maryland 11\n",
      "Rice 11\n",
      "SanJoseState 11\n",
      "NorthCarolinaState 11\n",
      "Arizona 11\n",
      "Iowa 12\n",
      "Pittsburgh 11\n",
      "Michigan 11\n",
      "Stanford 11\n",
      "Oregon 11\n",
      "Syracuse 11\n",
      "SouthernCalifornia 12\n",
      "Northwestern 11\n",
      "SanDiegoState 11\n",
      "Florida 12\n",
      "BowlingGreenState 11\n",
      "NewMexicoState 11\n",
      "Baylor 10\n",
      "MichiganState 11\n",
      "Ohio 10\n",
      "Buffalo 11\n",
      "SouthernMississippi 10\n",
      "WashingtonState 11\n",
      "BoiseState 9\n",
      "WakeForest 10\n",
      "NorthernIllinois 10\n",
      "KansasState 13\n",
      "WesternMichigan 11\n",
      "Navy 11\n",
      "VirginiaTech 11\n",
      "UtahState 9\n",
      "Oklahoma 12\n",
      "GeorgiaTech 11\n",
      "Louisville 10\n",
      "Arkansas 10\n",
      "Temple 11\n",
      "BallState 10\n",
      "Vanderbilt 11\n",
      "LouisianaLafayette 8\n",
      "California 11\n",
      "ColoradoState 10\n",
      "Akron 11\n",
      "Memphis 11\n",
      "Georgia 10\n",
      "TexasA&M 11\n",
      "FloridaState 12\n",
      "Rutgers 10\n",
      "NevadaLasVegas 12\n",
      "Duke 11\n",
      "LouisianaMonroe 8\n",
      "Colorado 11\n",
      "ArizonaState 11\n",
      "BrighamYoung 12\n",
      "MiamiOhio 11\n",
      "Auburn 12\n",
      "Nevada 12\n",
      "ArkansasState 10\n",
      "EasternMichigan 11\n",
      "SouthCarolina 11\n",
      "MiamiFlorida 10\n",
      "Idaho 9\n",
      "OhioState 11\n",
      "Utah 11\n",
      "Virginia 10\n",
      "TexasElPaso 11\n",
      "TexasTech 12\n",
      "NewMexico 11\n",
      "CentralMichigan 11\n",
      "Purdue 11\n",
      "EastCarolina 11\n",
      "NorthCarolina 11\n",
      "Hawaii 11\n",
      "Kentucky 10\n",
      "Nebraska 11\n",
      "WestVirginia 11\n",
      "Wisconsin 12\n",
      "Alabama 11\n",
      "Houston 11\n",
      "NorthTexas 10\n",
      "AirForce 10\n",
      "Tennessee 11\n"
     ]
    }
   ],
   "source": [
    "for node in kn.nodes():\n",
    "    print node,kn.degree(node)"
   ]
  },
  {
   "cell_type": "code",
   "execution_count": 30,
   "metadata": {
    "collapsed": true
   },
   "outputs": [],
   "source": [
    "nx.draw_spectral(kn,with_labels=True)"
   ]
  },
  {
   "cell_type": "code",
   "execution_count": 31,
   "metadata": {
    "collapsed": true
   },
   "outputs": [],
   "source": [
    "plt.show()"
   ]
  },
  {
   "cell_type": "code",
   "execution_count": 35,
   "metadata": {
    "collapsed": false
   },
   "outputs": [
    {
     "ename": "ImportError",
     "evalue": "No module named pygraphviz",
     "output_type": "error",
     "traceback": [
      "\u001b[1;31m---------------------------------------------------------------------------\u001b[0m",
      "\u001b[1;31mImportError\u001b[0m                               Traceback (most recent call last)",
      "\u001b[1;32m<ipython-input-35-99ed911275c0>\u001b[0m in \u001b[0;36m<module>\u001b[1;34m()\u001b[0m\n\u001b[1;32m----> 1\u001b[1;33m \u001b[1;32mimport\u001b[0m \u001b[0mpygraphviz\u001b[0m\u001b[1;33m\u001b[0m\u001b[0m\n\u001b[0m",
      "\u001b[1;31mImportError\u001b[0m: No module named pygraphviz"
     ]
    }
   ],
   "source": [
    "import pygraphviz"
   ]
  },
  {
   "cell_type": "code",
   "execution_count": null,
   "metadata": {
    "collapsed": true
   },
   "outputs": [],
   "source": [
    "nx.draw_graphviz(kn,with_labels=True)"
   ]
  }
 ],
 "metadata": {
  "kernelspec": {
   "display_name": "Python 2",
   "language": "python",
   "name": "python2"
  },
  "language_info": {
   "codemirror_mode": {
    "name": "ipython",
    "version": 2
   },
   "file_extension": ".py",
   "mimetype": "text/x-python",
   "name": "python",
   "nbconvert_exporter": "python",
   "pygments_lexer": "ipython2",
   "version": "2.7.10"
  }
 },
 "nbformat": 4,
 "nbformat_minor": 0
}
